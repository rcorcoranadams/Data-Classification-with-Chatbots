{
  "nbformat": 4,
  "nbformat_minor": 0,
  "metadata": {
    "colab": {
      "name": "Python Lab 2",
      "provenance": [],
      "authorship_tag": "ABX9TyO+ZyGILAeLjkpI0svDSnBy",
      "include_colab_link": true
    },
    "kernelspec": {
      "name": "python3",
      "display_name": "Python 3"
    }
  },
  "cells": [
    {
      "cell_type": "markdown",
      "metadata": {
        "id": "view-in-github",
        "colab_type": "text"
      },
      "source": [
        "<a href=\"https://colab.research.google.com/github/IDCE-MSGIS/lab2-data-classification-chatbots-rcorcoranadams/blob/master/Python_Lab_2.ipynb\" target=\"_parent\"><img src=\"https://colab.research.google.com/assets/colab-badge.svg\" alt=\"Open In Colab\"/></a>"
      ]
    },
    {
      "cell_type": "code",
      "metadata": {
        "id": "HEnOrZLAjrk8",
        "colab_type": "code",
        "colab": {}
      },
      "source": [
        "'''\n",
        "Name: Rachel Corcoran-Adams\n",
        "Date Created: September 4, 2020\n",
        "Python Version: 3.8.5\n",
        "Note: This lab will introduce concepts of data classification and chatbots. Inputs include:\n",
        "temperature values, and strings. Outputs include \n",
        "'''"
      ],
      "execution_count": null,
      "outputs": []
    },
    {
      "cell_type": "markdown",
      "metadata": {
        "id": "V6bvIlAOwtID",
        "colab_type": "text"
      },
      "source": [
        "# **Script 1**"
      ]
    },
    {
      "cell_type": "code",
      "metadata": {
        "id": "Kq1GIYGatMhf",
        "colab_type": "code",
        "colab": {
          "base_uri": "https://localhost:8080/",
          "height": 34
        },
        "outputId": "4088f2ca-d81d-4e51-ca11-b45c1f372b40"
      },
      "source": [
        "# This line defines the function that converts temperature \n",
        "def feelTemp (temp):\n",
        "# This line shows the conversion criteria from Fahrenheit values to temperature feel: hot\n",
        "  if temp >= 100:\n",
        "# This line prints the temperature feel \n",
        "    print(\"It is hot!\")\n",
        "# This line shows the conversion criteria from Fahrenheit values to temperature feel: warm\n",
        "  elif temp == 70:\n",
        "# This line prints the temperaure feel \n",
        "    print(\"It is warm!\")\n",
        "# This line shows the conversion criteria from Fahrenheit values to temperature feel: cold\n",
        "  else:\n",
        "    temp < 32\n",
        "# This line prints the temperature feel \n",
        "    print(\"It is cold!\")\n",
        "# This line inputs the user-defined temperature and returns the classified temperature feel\n",
        "feelTemp (45)"
      ],
      "execution_count": null,
      "outputs": [
        {
          "output_type": "stream",
          "text": [
            "It is cold!\n"
          ],
          "name": "stdout"
        }
      ]
    },
    {
      "cell_type": "markdown",
      "metadata": {
        "id": "w_p80Phvw05x",
        "colab_type": "text"
      },
      "source": [
        "# **Script 2** "
      ]
    },
    {
      "cell_type": "code",
      "metadata": {
        "id": "4M8U953Dw3xi",
        "colab_type": "code",
        "colab": {
          "base_uri": "https://localhost:8080/",
          "height": 51
        },
        "outputId": "cb70468e-f0d2-469e-ebbb-1466e29e2d05"
      },
      "source": [
        "# This line defines the user input \n",
        "reply = input('taste: ')\n",
        "# This line defines the function 'Preference'\n",
        "def Preference(reply):\n",
        "# This line begins the decision tree by setting its first conditional statement for taste preference: 'salty'\n",
        "  if 'Salty' in reply:\n",
        "# This line instructs the program to print the preference\n",
        "    print(\"I like that!\")\n",
        "# This line adds to the decision tree by adding another conditional statement for taste preference: 'sweet'\n",
        "  elif 'Sweet' in reply:\n",
        "# This line instructs the program to print the preference \n",
        "    print(\"Eh, I don't like that\")\n",
        "# This line wraps up the decision tree with its final conditional statement for all other taste preferences \n",
        "  else:\n",
        "# This line instructs the program to print the preference\n",
        "    print(\"I am indifferent\")\n",
        "# This line inputs the user-defined taste and returns the taste preference \n",
        "Preference(reply)"
      ],
      "execution_count": 3,
      "outputs": [
        {
          "output_type": "stream",
          "text": [
            "taste: Spicy\n",
            "I am indifferent\n"
          ],
          "name": "stdout"
        }
      ]
    }
  ]
}